{
 "cells": [
  {
   "cell_type": "code",
   "execution_count": 3,
   "metadata": {
    "collapsed": true
   },
   "outputs": [
    {
     "name": "stderr",
     "output_type": "stream",
     "text": [
      "                                                                                \r"
     ]
    },
    {
     "name": "stdout",
     "output_type": "stream",
     "text": [
      "+--------+--------------------+--------------+------------+--------------------+--------------------+---------------------+--------------------+---------+--------------------+---------+----------+--------------------+----------+------------------+------------------+--------------------+-----------------+--------------------+--------------------+------------------+-------------------+-------------------------+------------------+--------------------+----------------------+--------------------+----------------------+----------------------------+--------+---------+------------------+---------------+------------+---------+--------------+--------+----+------------------+---------+--------------+--------------------+----------------------+----------------------+----------------------+----------------------+----------------------+----------------------+----------------+----------------+---------------+---------------+---------------+----------------+---------------------+-----------------+---------------------+----------------------+---------------+------------+--------------------+----------------------+-------------------------+---------------------+---------------------------+----------------------+-------------------+-------+----------------+------------------------------+-------------------------------------------+--------------------------------------------+-------------------------------------------+-----------------+\n",
      "|      id|         listing_url|     scrape_id|last_scraped|                name|         description|neighborhood_overview|         picture_url|  host_id|            host_url|host_name|host_since|       host_location|host_about|host_response_time|host_response_rate|host_acceptance_rate|host_is_superhost|  host_thumbnail_url|    host_picture_url|host_neighbourhood|host_listings_count|host_total_listings_count|host_verifications|host_has_profile_pic|host_identity_verified|       neighbourhood|neighbourhood_cleansed|neighbourhood_group_cleansed|latitude|longitude|     property_type|      room_type|accommodates|bathrooms|bathrooms_text|bedrooms|beds|         amenities|    price|minimum_nights|      maximum_nights|minimum_minimum_nights|maximum_minimum_nights|minimum_maximum_nights|maximum_maximum_nights|minimum_nights_avg_ntm|maximum_nights_avg_ntm|calendar_updated|has_availability|availability_30|availability_60|availability_90|availability_365|calendar_last_scraped|number_of_reviews|number_of_reviews_ltm|number_of_reviews_l30d|   first_review| last_review|review_scores_rating|review_scores_accuracy|review_scores_cleanliness|review_scores_checkin|review_scores_communication|review_scores_location|review_scores_value|license|instant_bookable|calculated_host_listings_count|calculated_host_listings_count_entire_homes|calculated_host_listings_count_private_rooms|calculated_host_listings_count_shared_rooms|reviews_per_month|\n",
      "+--------+--------------------+--------------+------------+--------------------+--------------------+---------------------+--------------------+---------+--------------------+---------+----------+--------------------+----------+------------------+------------------+--------------------+-----------------+--------------------+--------------------+------------------+-------------------+-------------------------+------------------+--------------------+----------------------+--------------------+----------------------+----------------------------+--------+---------+------------------+---------------+------------+---------+--------------+--------+----+------------------+---------+--------------+--------------------+----------------------+----------------------+----------------------+----------------------+----------------------+----------------------+----------------+----------------+---------------+---------------+---------------+----------------+---------------------+-----------------+---------------------+----------------------+---------------+------------+--------------------+----------------------+-------------------------+---------------------+---------------------------+----------------------+-------------------+-------+----------------+------------------------------+-------------------------------------------+--------------------------------------------+-------------------------------------------+-----------------+\n",
      "|26660141|https://www.airbn...|20220606014139|  2022-06-07|CHARMANT APPARTEM...|Charmant appartem...| La rue principale...|https://a0.muscac...|200407698|https://www.airbn...|   Sylvie|2018-07-06|Les Lilas, Île-de...|      null|within a few hours|              100%|                100%|                f|https://a0.muscac...|https://a0.muscac...|              null|                  1|                        1|         ['phone']|                   t|                     t|Les Lilas, Île-de...|       Buttes-Chaumont|                        null| 48.8805|  2.41413|Entire rental unit|Entire home/apt|           4|     null|        1 bath|       1|   2|\"[\"\"Refrigerator\"\"| \"\"Wifi\"\"|      \"\"Oven\"\"| \"\"Host greets you\"\"|      \"\"Coffee maker\"\"|                \"\"TV\"\"|   \"\"Private patio ...|             \"\"Stove\"\"|   \"\"Paid parking o...|        \"\"Dishwasher\"\"|   \"\"Microwave\"\"|      \"\"Washer\"\"|    \"\"Heating\"\"|   \"\"Elevator\"\"| \"\"Hair dryer\"\"|   \"\"Hot water\"\"|  \"\"Dishes and sil...|         \"\"Iron\"\"|       \"\"Bed linens\"\"|    \"\"Cooking basics\"\"| \"\"Essentials\"\"| \"\"Kitchen\"\"|       \"\"Hangers\"\"]\"|                $90.00|                        5|                    8|                          5|                     5|                  8|      8|             5.0|                           8.0|                                       null|                                           t|                                          0|               15|\n",
      "+--------+--------------------+--------------+------------+--------------------+--------------------+---------------------+--------------------+---------+--------------------+---------+----------+--------------------+----------+------------------+------------------+--------------------+-----------------+--------------------+--------------------+------------------+-------------------+-------------------------+------------------+--------------------+----------------------+--------------------+----------------------+----------------------------+--------+---------+------------------+---------------+------------+---------+--------------+--------+----+------------------+---------+--------------+--------------------+----------------------+----------------------+----------------------+----------------------+----------------------+----------------------+----------------+----------------+---------------+---------------+---------------+----------------+---------------------+-----------------+---------------------+----------------------+---------------+------------+--------------------+----------------------+-------------------------+---------------------+---------------------------+----------------------+-------------------+-------+----------------+------------------------------+-------------------------------------------+--------------------------------------------+-------------------------------------------+-----------------+\n",
      "only showing top 1 row\n",
      "\n"
     ]
    }
   ],
   "source": [
    "from pyspark.sql import SparkSession\n",
    "\n",
    "spark = SparkSession.builder.appName(\"AirBNB price regression\").getOrCreate()"
   ]
  },
  {
   "cell_type": "code",
   "execution_count": 5,
   "outputs": [
    {
     "name": "stderr",
     "output_type": "stream",
     "text": [
      "                                                                                \r"
     ]
    },
    {
     "name": "stdout",
     "output_type": "stream",
     "text": [
      "+--------+--------------------+--------------+------------+--------------------+--------------------+---------------------+--------------------+---------+--------------------+---------+----------+--------------------+----------+------------------+------------------+--------------------+-----------------+--------------------+--------------------+------------------+-------------------+-------------------------+------------------+--------------------+----------------------+--------------------+----------------------+----------------------------+--------+---------+------------------+---------------+------------+---------+--------------+--------+----+------------------+---------+--------------+--------------------+----------------------+----------------------+----------------------+----------------------+----------------------+----------------------+----------------+----------------+---------------+---------------+---------------+----------------+---------------------+-----------------+---------------------+----------------------+---------------+------------+--------------------+----------------------+-------------------------+---------------------+---------------------------+----------------------+-------------------+-------+----------------+------------------------------+-------------------------------------------+--------------------------------------------+-------------------------------------------+-----------------+\n",
      "|      id|         listing_url|     scrape_id|last_scraped|                name|         description|neighborhood_overview|         picture_url|  host_id|            host_url|host_name|host_since|       host_location|host_about|host_response_time|host_response_rate|host_acceptance_rate|host_is_superhost|  host_thumbnail_url|    host_picture_url|host_neighbourhood|host_listings_count|host_total_listings_count|host_verifications|host_has_profile_pic|host_identity_verified|       neighbourhood|neighbourhood_cleansed|neighbourhood_group_cleansed|latitude|longitude|     property_type|      room_type|accommodates|bathrooms|bathrooms_text|bedrooms|beds|         amenities|    price|minimum_nights|      maximum_nights|minimum_minimum_nights|maximum_minimum_nights|minimum_maximum_nights|maximum_maximum_nights|minimum_nights_avg_ntm|maximum_nights_avg_ntm|calendar_updated|has_availability|availability_30|availability_60|availability_90|availability_365|calendar_last_scraped|number_of_reviews|number_of_reviews_ltm|number_of_reviews_l30d|   first_review| last_review|review_scores_rating|review_scores_accuracy|review_scores_cleanliness|review_scores_checkin|review_scores_communication|review_scores_location|review_scores_value|license|instant_bookable|calculated_host_listings_count|calculated_host_listings_count_entire_homes|calculated_host_listings_count_private_rooms|calculated_host_listings_count_shared_rooms|reviews_per_month|\n",
      "+--------+--------------------+--------------+------------+--------------------+--------------------+---------------------+--------------------+---------+--------------------+---------+----------+--------------------+----------+------------------+------------------+--------------------+-----------------+--------------------+--------------------+------------------+-------------------+-------------------------+------------------+--------------------+----------------------+--------------------+----------------------+----------------------------+--------+---------+------------------+---------------+------------+---------+--------------+--------+----+------------------+---------+--------------+--------------------+----------------------+----------------------+----------------------+----------------------+----------------------+----------------------+----------------+----------------+---------------+---------------+---------------+----------------+---------------------+-----------------+---------------------+----------------------+---------------+------------+--------------------+----------------------+-------------------------+---------------------+---------------------------+----------------------+-------------------+-------+----------------+------------------------------+-------------------------------------------+--------------------------------------------+-------------------------------------------+-----------------+\n",
      "|26660141|https://www.airbn...|20220606014139|  2022-06-07|CHARMANT APPARTEM...|Charmant appartem...| La rue principale...|https://a0.muscac...|200407698|https://www.airbn...|   Sylvie|2018-07-06|Les Lilas, Île-de...|      null|within a few hours|              100%|                100%|                f|https://a0.muscac...|https://a0.muscac...|              null|                  1|                        1|         ['phone']|                   t|                     t|Les Lilas, Île-de...|       Buttes-Chaumont|                        null| 48.8805|  2.41413|Entire rental unit|Entire home/apt|           4|     null|        1 bath|       1|   2|\"[\"\"Refrigerator\"\"| \"\"Wifi\"\"|      \"\"Oven\"\"| \"\"Host greets you\"\"|      \"\"Coffee maker\"\"|                \"\"TV\"\"|   \"\"Private patio ...|             \"\"Stove\"\"|   \"\"Paid parking o...|        \"\"Dishwasher\"\"|   \"\"Microwave\"\"|      \"\"Washer\"\"|    \"\"Heating\"\"|   \"\"Elevator\"\"| \"\"Hair dryer\"\"|   \"\"Hot water\"\"|  \"\"Dishes and sil...|         \"\"Iron\"\"|       \"\"Bed linens\"\"|    \"\"Cooking basics\"\"| \"\"Essentials\"\"| \"\"Kitchen\"\"|       \"\"Hangers\"\"]\"|                $90.00|                        5|                    8|                          5|                     5|                  8|      8|             5.0|                           8.0|                                       null|                                           t|                                          0|               15|\n",
      "+--------+--------------------+--------------+------------+--------------------+--------------------+---------------------+--------------------+---------+--------------------+---------+----------+--------------------+----------+------------------+------------------+--------------------+-----------------+--------------------+--------------------+------------------+-------------------+-------------------------+------------------+--------------------+----------------------+--------------------+----------------------+----------------------------+--------+---------+------------------+---------------+------------+---------+--------------+--------+----+------------------+---------+--------------+--------------------+----------------------+----------------------+----------------------+----------------------+----------------------+----------------------+----------------+----------------+---------------+---------------+---------------+----------------+---------------------+-----------------+---------------------+----------------------+---------------+------------+--------------------+----------------------+-------------------------+---------------------+---------------------------+----------------------+-------------------+-------+----------------+------------------------------+-------------------------------------------+--------------------------------------------+-------------------------------------------+-----------------+\n",
      "only showing top 1 row\n",
      "\n"
     ]
    }
   ],
   "source": [
    "df = spark.read.csv(\"./listings.csv\", header=True, inferSchema=True)\n",
    "\n",
    "df.show(1)"
   ],
   "metadata": {
    "collapsed": false
   }
  },
  {
   "cell_type": "code",
   "execution_count": 24,
   "outputs": [
    {
     "name": "stdout",
     "output_type": "stream",
     "text": [
      "root\n",
      " |-- neighbourhood_cleansed: string (nullable = true)\n",
      " |-- latitude: string (nullable = true)\n",
      " |-- longitude: string (nullable = true)\n",
      " |-- property_type: string (nullable = true)\n",
      " |-- room_type: string (nullable = true)\n",
      " |-- accommodates: string (nullable = true)\n",
      " |-- bathrooms_text: string (nullable = true)\n",
      " |-- bedrooms: string (nullable = true)\n",
      " |-- beds: string (nullable = true)\n",
      " |-- amenities: string (nullable = true)\n",
      " |-- price: string (nullable = true)\n",
      " |-- minimum_minimum_nights: string (nullable = true)\n",
      " |-- minimum_nights_avg_ntm: string (nullable = true)\n",
      " |-- maximum_nights_avg_ntm: string (nullable = true)\n",
      " |-- has_availability: string (nullable = true)\n",
      " |-- availability_30: string (nullable = true)\n",
      " |-- availability_60: string (nullable = true)\n",
      " |-- availability_90: string (nullable = true)\n",
      " |-- availability_365: string (nullable = true)\n",
      " |-- review_scores_rating: string (nullable = true)\n",
      " |-- review_scores_accuracy: string (nullable = true)\n",
      " |-- review_scores_cleanliness: string (nullable = true)\n",
      " |-- review_scores_checkin: string (nullable = true)\n",
      " |-- review_scores_communication: string (nullable = true)\n",
      " |-- review_scores_location: string (nullable = true)\n",
      " |-- review_scores_value: string (nullable = true)\n",
      " |-- instant_bookable: string (nullable = true)\n",
      "\n",
      "DataFrame Columns count : 27\n"
     ]
    }
   ],
   "source": [
    "uselessColumns = [\"id\", \"listing_url\", \"scrape_id\", \"last_scraped\", \"name\", \"description\", \"neighborhood_overview\", \"picture_url\", \"host_id\", \"host_url\", \"host_name\", \"host_since\", \"host_location\", \"host_about\", \"host_response_time\", \"host_response_rate\", \"host_acceptance_rate\", \"host_thumbnail_url\", \"host_picture_url\", \"host_neighbourhood\", \"host_listings_count\", \"host_total_listings_count\", \"host_verifications\", \"host_has_profile_pic\", \"host_identity_verified\", \"neighbourhood\", \"neighbourhood_group_cleansed\", \"bathrooms\", \"minimum_nights\", \"maximum_nights\", \"calendar_updated\", \"maximum_minimum_nights\", \"minimum_maximum_nights\", \"maximum_maximum_nights\", \"license\", \"calendar_last_scraped\", \"number_of_reviews\", \"number_of_reviews_ltm\", \"number_of_reviews_l30d\", \"first_review\", \"last_review\", \"calculated_host_listings_count\", \"calculated_host_listings_count_entire_homes\", \"calculated_host_listings_count_shared_rooms\", \"calculated_host_listings_count_private_rooms\", \"reviews_per_month\", \"host_is_superhost\"]\n",
    "\n",
    "clean_df = df.drop(*uselessColumns)\n",
    "\n",
    "clean_df.printSchema()\n",
    "\n",
    "print(f\"DataFrame Columns count : {len(clean_df.columns)}\")"
   ],
   "metadata": {
    "collapsed": false
   }
  }
 ],
 "metadata": {
  "kernelspec": {
   "display_name": "Python 3",
   "language": "python",
   "name": "python3"
  },
  "language_info": {
   "codemirror_mode": {
    "name": "ipython",
    "version": 2
   },
   "file_extension": ".py",
   "mimetype": "text/x-python",
   "name": "python",
   "nbconvert_exporter": "python",
   "pygments_lexer": "ipython2",
   "version": "2.7.6"
  }
 },
 "nbformat": 4,
 "nbformat_minor": 0
}
